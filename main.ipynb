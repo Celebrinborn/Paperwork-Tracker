{
 "metadata": {
  "language_info": {
   "codemirror_mode": {
    "name": "ipython",
    "version": 3
   },
   "file_extension": ".py",
   "mimetype": "text/x-python",
   "name": "python",
   "nbconvert_exporter": "python",
   "pygments_lexer": "ipython3",
   "version": "3.9.0"
  },
  "orig_nbformat": 2,
  "kernelspec": {
   "name": "pythonjvsc74a57bd06bc44a419a3fd3ce18b9aa670930ffe7206471fa21ee4529e3a5ee59ceb2151e",
   "display_name": "Python 3.9.0  ('env': venv)"
  },
  "metadata": {
   "interpreter": {
    "hash": "6bc44a419a3fd3ce18b9aa670930ffe7206471fa21ee4529e3a5ee59ceb2151e"
   }
  }
 },
 "nbformat": 4,
 "nbformat_minor": 2,
 "cells": [
  {
   "cell_type": "code",
   "execution_count": 1,
   "metadata": {},
   "outputs": [
    {
     "output_type": "stream",
     "name": "stderr",
     "text": [
      "INFO:root:configured logging\n"
     ]
    }
   ],
   "source": [
    "import time\n",
    "import logging\n",
    "import sys\n",
    "import os\n",
    "import datetime\n",
    "import re\n",
    "import logging\n",
    "from scripts.Functions import *\n",
    "from scripts.SQL_Functions import *\n",
    "from scripts.Classes import *\n",
    "import sqlite3\n",
    "\n",
    "\n",
    "logging.basicConfig(\n",
    "    level=logging.INFO,\n",
    "    #format=\"%(asctime)s [%(levelname)s] %(message)s\",\n",
    "    handlers=[logging.FileHandler(os.path.join('logs', 'paperwork_tracker.log')), logging.StreamHandler()])\n",
    "logging.info('configured logging')\n"
   ]
  },
  {
   "cell_type": "code",
   "execution_count": 2,
   "metadata": {},
   "outputs": [
    {
     "output_type": "stream",
     "name": "stderr",
     "text": [
      "INFO:root:closed db connection\n",
      "INFO:root:closed db connection\n"
     ]
    }
   ],
   "source": [
    "#Verify tables exist\n",
    "if not IsTableExists('Documents'):\n",
    "    logging.critical('unable to find table Documents')\n",
    "    sys.exit('critical error while checking tables')\n",
    "if not IsTableExists('Boxes'):\n",
    "    logging.critical('unable to find table Boxes')\n",
    "    sys.exit('critical error while checking tables')\n",
    "\n"
   ]
  },
  {
   "cell_type": "code",
   "execution_count": 3,
   "metadata": {},
   "outputs": [
    {
     "output_type": "stream",
     "name": "stderr",
     "text": [
      "INFO:root:sending query insert into Boxes (FriendlyName, DateCreated, DateClosed, IsOpen, QRCode, PhysicalLocation) values (?, ?, ?, ?, ?, ?); with params ('tiny hackwork', datetime.datetime(2021, 6, 8, 14, 36, 26, 744415), datetime.datetime(9999, 12, 31, 23, 59, 59, 999999), True, None, 'Bedroom')\n",
      "INFO:root:connecting to db\n",
      "INFO:root:created box with name tiny hackwork and id 2\n"
     ]
    },
    {
     "output_type": "execute_result",
     "data": {
      "text/plain": [
       "('tiny hackwork', 2, None)"
      ]
     },
     "metadata": {},
     "execution_count": 3
    }
   ],
   "source": [
    "#Create_Box('Bedroom')"
   ]
  },
  {
   "cell_type": "code",
   "execution_count": 4,
   "metadata": {},
   "outputs": [
    {
     "output_type": "stream",
     "name": "stderr",
     "text": [
      "INFO:root:connecting to db\n",
      "ERROR:root:an error occured while running query\n",
      "ERROR:root:query is select distinct PhysicalLocation from Boxes. params are: \n",
      "ERROR:root:sequence item 0: expected str instance, tuple found\n"
     ]
    },
    {
     "output_type": "error",
     "ename": "UnboundLocalError",
     "evalue": "local variable 'results' referenced before assignment",
     "traceback": [
      "\u001b[1;31m---------------------------------------------------------------------------\u001b[0m",
      "\u001b[1;31mUnboundLocalError\u001b[0m                         Traceback (most recent call last)",
      "\u001b[1;32m<ipython-input-4-c2badb07783b>\u001b[0m in \u001b[0;36m<module>\u001b[1;34m\u001b[0m\n\u001b[1;32m----> 1\u001b[1;33m \u001b[0mGet_Locations\u001b[0m\u001b[1;33m(\u001b[0m\u001b[1;33m)\u001b[0m\u001b[1;33m\u001b[0m\u001b[1;33m\u001b[0m\u001b[0m\n\u001b[0m",
      "\u001b[1;32mc:\\Users\\Celebrinborn\\.vscode\\Paperwork-Tracker\\backend\\scripts\\Functions.py\u001b[0m in \u001b[0;36mGet_Locations\u001b[1;34m()\u001b[0m\n\u001b[0;32m     43\u001b[0m \u001b[1;33m\u001b[0m\u001b[0m\n\u001b[0;32m     44\u001b[0m \u001b[1;32mdef\u001b[0m \u001b[0mGet_Locations\u001b[0m\u001b[1;33m(\u001b[0m\u001b[1;33m)\u001b[0m\u001b[1;33m:\u001b[0m\u001b[1;33m\u001b[0m\u001b[1;33m\u001b[0m\u001b[0m\n\u001b[1;32m---> 45\u001b[1;33m     \u001b[1;32mreturn\u001b[0m \u001b[0mQuery\u001b[0m\u001b[1;33m(\u001b[0m\u001b[1;34m'select distinct PhysicalLocation from Boxes'\u001b[0m\u001b[1;33m)\u001b[0m\u001b[1;33m\u001b[0m\u001b[1;33m\u001b[0m\u001b[0m\n\u001b[0m",
      "\u001b[1;32mc:\\Users\\Celebrinborn\\.vscode\\Paperwork-Tracker\\backend\\scripts\\SQL_Functions.py\u001b[0m in \u001b[0;36mQuery\u001b[1;34m(query, params, returnID)\u001b[0m\n\u001b[0;32m     28\u001b[0m             \u001b[1;32mreturn\u001b[0m \u001b[0mresults\u001b[0m\u001b[1;33m,\u001b[0m \u001b[0mid\u001b[0m\u001b[1;33m\u001b[0m\u001b[1;33m\u001b[0m\u001b[0m\n\u001b[0;32m     29\u001b[0m         \u001b[1;32melse\u001b[0m\u001b[1;33m:\u001b[0m\u001b[1;33m\u001b[0m\u001b[1;33m\u001b[0m\u001b[0m\n\u001b[1;32m---> 30\u001b[1;33m             \u001b[1;32mreturn\u001b[0m \u001b[0mresults\u001b[0m\u001b[1;33m,\u001b[0m \u001b[1;32mNone\u001b[0m\u001b[1;33m\u001b[0m\u001b[1;33m\u001b[0m\u001b[0m\n\u001b[0m\u001b[0;32m     31\u001b[0m \u001b[1;33m\u001b[0m\u001b[0m\n\u001b[0;32m     32\u001b[0m \u001b[1;32mdef\u001b[0m \u001b[0mInitilize_Database\u001b[0m\u001b[1;33m(\u001b[0m\u001b[1;33m)\u001b[0m\u001b[1;33m:\u001b[0m\u001b[1;33m\u001b[0m\u001b[1;33m\u001b[0m\u001b[0m\n",
      "\u001b[1;31mUnboundLocalError\u001b[0m: local variable 'results' referenced before assignment"
     ]
    }
   ],
   "source": [
    "Get_Locations()"
   ]
  },
  {
   "cell_type": "code",
   "execution_count": 5,
   "metadata": {},
   "outputs": [
    {
     "output_type": "stream",
     "name": "stderr",
     "text": [
      "INFO:root:connecting to db\n",
      "ERROR:root:an error occured while running query\n",
      "ERROR:root:query is select * from Boxes;. params are: \n",
      "ERROR:root:sequence item 0: expected str instance, tuple found\n"
     ]
    },
    {
     "output_type": "error",
     "ename": "UnboundLocalError",
     "evalue": "local variable 'results' referenced before assignment",
     "traceback": [
      "\u001b[1;31m---------------------------------------------------------------------------\u001b[0m",
      "\u001b[1;31mUnboundLocalError\u001b[0m                         Traceback (most recent call last)",
      "\u001b[1;32m<ipython-input-5-19f2408755f7>\u001b[0m in \u001b[0;36m<module>\u001b[1;34m\u001b[0m\n\u001b[1;32m----> 1\u001b[1;33m \u001b[0mQuery\u001b[0m\u001b[1;33m(\u001b[0m\u001b[1;34m'select * from Boxes;'\u001b[0m\u001b[1;33m)\u001b[0m\u001b[1;33m\u001b[0m\u001b[1;33m\u001b[0m\u001b[0m\n\u001b[0m",
      "\u001b[1;32mc:\\Users\\Celebrinborn\\.vscode\\Paperwork-Tracker\\backend\\scripts\\SQL_Functions.py\u001b[0m in \u001b[0;36mQuery\u001b[1;34m(query, params, returnID)\u001b[0m\n\u001b[0;32m     28\u001b[0m             \u001b[1;32mreturn\u001b[0m \u001b[0mresults\u001b[0m\u001b[1;33m,\u001b[0m \u001b[0mid\u001b[0m\u001b[1;33m\u001b[0m\u001b[1;33m\u001b[0m\u001b[0m\n\u001b[0;32m     29\u001b[0m         \u001b[1;32melse\u001b[0m\u001b[1;33m:\u001b[0m\u001b[1;33m\u001b[0m\u001b[1;33m\u001b[0m\u001b[0m\n\u001b[1;32m---> 30\u001b[1;33m             \u001b[1;32mreturn\u001b[0m \u001b[0mresults\u001b[0m\u001b[1;33m,\u001b[0m \u001b[1;32mNone\u001b[0m\u001b[1;33m\u001b[0m\u001b[1;33m\u001b[0m\u001b[0m\n\u001b[0m\u001b[0;32m     31\u001b[0m \u001b[1;33m\u001b[0m\u001b[0m\n\u001b[0;32m     32\u001b[0m \u001b[1;32mdef\u001b[0m \u001b[0mInitilize_Database\u001b[0m\u001b[1;33m(\u001b[0m\u001b[1;33m)\u001b[0m\u001b[1;33m:\u001b[0m\u001b[1;33m\u001b[0m\u001b[1;33m\u001b[0m\u001b[0m\n",
      "\u001b[1;31mUnboundLocalError\u001b[0m: local variable 'results' referenced before assignment"
     ]
    }
   ],
   "source": [
    "Query('select * from Boxes;')"
   ]
  },
  {
   "cell_type": "code",
   "execution_count": 20,
   "metadata": {},
   "outputs": [
    {
     "output_type": "stream",
     "name": "stderr",
     "text": [
      "INFO:root:connecting to db\n",
      "[(1, 'meek moth', '2021-06-08 14:34:12.965774', '9999-12-31 23:59:59.999999', 1, None, 'Bedroom'), (2, 'tiny hackwork', '2021-06-08 14:36:26.744415', '9999-12-31 23:59:59.999999', 1, None, 'Bedroom')]\n",
      "<class 'list'>\n",
      "<class 'tuple'> (1, 'meek moth', '2021-06-08 14:34:12.965774', '9999-12-31 23:59:59.999999', 1, None, 'Bedroom')\n",
      "<class 'tuple'> (2, 'tiny hackwork', '2021-06-08 14:36:26.744415', '9999-12-31 23:59:59.999999', 1, None, 'Bedroom')\n"
     ]
    }
   ],
   "source": [
    "query = \"select * from Boxes\"\n",
    "#params=[]\n",
    "\n",
    "try:\n",
    "    logging.info('connecting to db')\n",
    "    con = sqlite3.connect(os.path.join('data', 'database.db'))\n",
    "    curser = con.cursor()\n",
    "    rows = curser.execute(query).fetchall()\n",
    "    print(str(rows))\n",
    "    print(type(rows))\n",
    "    for i in rows:\n",
    "        print(type(i), i)\n",
    "    #con.commit()\n",
    "except BaseException as e:\n",
    "    logging.error('an error occured while running query')\n",
    "    #logging.error(f'query is {query}. params are: {\", \".join(params)}')\n",
    "    logging.error(str(e))\n",
    "    con.close()\n",
    "    raise e\n",
    "#finally:\n",
    "con.close()"
   ]
  }
 ]
}