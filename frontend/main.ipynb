{
 "metadata": {
  "language_info": {
   "codemirror_mode": {
    "name": "ipython",
    "version": 3
   },
   "file_extension": ".py",
   "mimetype": "text/x-python",
   "name": "python",
   "nbconvert_exporter": "python",
   "pygments_lexer": "ipython3",
   "version": "3.9.0-final"
  },
  "orig_nbformat": 2,
  "kernelspec": {
   "name": "python3",
   "display_name": "Python 3.9.0 64-bit ('env')",
   "metadata": {
    "interpreter": {
     "hash": "6bc44a419a3fd3ce18b9aa670930ffe7206471fa21ee4529e3a5ee59ceb2151e"
    }
   }
  }
 },
 "nbformat": 4,
 "nbformat_minor": 2,
 "cells": [
  {
   "cell_type": "code",
   "execution_count": 2,
   "metadata": {},
   "outputs": [
    {
     "output_type": "stream",
     "name": "stderr",
     "text": [
      "INFO:root:configured logging\n"
     ]
    }
   ],
   "source": [
    "import time\n",
    "import logging\n",
    "import sys\n",
    "import os\n",
    "import datetime\n",
    "import re\n",
    "import logging\n",
    "#from functions import Refresh\n",
    "import sqlite3\n",
    "\n",
    "\n",
    "logging.basicConfig(\n",
    "    level=logging.INFO,\n",
    "    #format=\"%(asctime)s [%(levelname)s] %(message)s\",\n",
    "    handlers=[logging.FileHandler(os.path.join('logs', 'paperwork_tracker.log')), logging.StreamHandler()])\n",
    "logging.info('configured logging')\n"
   ]
  },
  {
   "cell_type": "code",
   "execution_count": null,
   "metadata": {},
   "outputs": [],
   "source": [
    "#check if db already exists:\n",
    "if os.path.exists(os.path.join('data','dataframe.sql')):\n",
    "    pass\n",
    "else:\n",
    "    logging.error('no dataframe.sql file found')\n",
    "\n",
    "#connect to sql database\n",
    "logging.info('opening db connection')\n",
    "try: \n",
    "    con = sqlite3.connect(os.path.join('data', 'dataframe.sql'))\n",
    "    \n",
    "    #check if table exists\n",
    "    if len(con.cursor().execute(\"select sql from sqlite_master where type = 'table' and name = 'dataframe';\").fetchall()) == 1:\n",
    "        Is_DB_Exists = True\n",
    "    else:\n",
    "        Is_DB_Exists = False\n",
    "        logging.error('NO dataframe TABLE FOUND IN DATABASE')\n",
    "\n",
    "    if Is_DB_Exists:\n",
    "        df = pd.read_sql(\"SELECT * from dataframe\", con, index_col='id', parse_dates=['created'])\n",
    "    \n",
    "    #log which rows will be added\n",
    "        logging.info('tmpDF size: ' + str(newDF.shape))\n",
    "        logging.info(','.join(newDF.index.tolist()))\n",
    "\n",
    "    #log df shapes for debugging purposes\n",
    "        logging.info('df shape was: ' + str(df.shape))\n",
    "        df = df.append(newDF)\n",
    "        logging.info('df shape is: ' + str(df.shape))\n",
    "    \n",
    "    #save to sql\n",
    "    logging.info('saving to existing sql database')\n",
    "    newDF.applymap(str).to_sql('dataframe', con, if_exists='append')\n",
    "except BaseException as e:\n",
    "    logging.critical('error raised in functions.py main sqllite3 connection catcher')\n",
    "    raise e\n",
    "finally:\n",
    "    con.close()\n",
    "    logging.info('closed db connection')"
   ]
  },
  {
   "cell_type": "code",
   "execution_count": 3,
   "metadata": {},
   "outputs": [
    {
     "output_type": "stream",
     "name": "stderr",
     "text": [
      "ERROR:root:no dataframe.sql file found\n",
      "INFO:root:opening db connection\n",
      "INFO:root:creating boxes table\n",
      "INFO:root:create table if not exists Boxes\n",
      " (\n",
      "     ID INTEGER PRIMARY KEY AUTOINCREMENT\n",
      "     , FriendlyName varchar(64)\n",
      "     , DateCreated INTEGER -- POSIX timestamp use datetime.fromtimestamp(timestamp, tz='America/Los_Angeles')\n",
      "     , DateClosed INTEGER -- POSIX timestamp use datetime.fromtimestamp(timestamp, tz='America/Los_Angeles')\n",
      "     , IsOpen BOOLEAN -- 0 is open, 1 is closed\n",
      "     , QRCode varchar(512) -- filepath to image-- pickled file. Use pickle to unpack  use pip install qrcode to generate\n",
      "     , PhysicalLocation varchar(512)\n",
      " )\n",
      "INFO:root:creating documents table\n",
      "INFO:root:create table if not exists Documents\n",
      " (\n",
      "     ID INTEGER PRIMARY KEY AUTOINCREMENT\n",
      "     , DateUploaded INTEGER -- POSIX timestamp use datetime.fromtimestamp(timestamp, tz='America/Los_Angeles')\n",
      "     , Image varchar(512) -- filepath to image\n",
      "     , PageNumber INTEGER\n",
      "     , BoxID INTEGER\n",
      "     , Sender varchar(512)\n",
      "     , Category varchar(512)\n",
      "     , Notes varchar(2048)\n",
      " \n",
      "     , FOREIGN KEY(BoxID) REFERENCES Boxes(ID)\n",
      " )\n",
      "INFO:root:closed db connection\n"
     ]
    }
   ],
   "source": []
  }
 ]
}