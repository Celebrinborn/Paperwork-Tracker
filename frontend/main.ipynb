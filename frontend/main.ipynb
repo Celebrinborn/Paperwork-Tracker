{
 "metadata": {
  "language_info": {
   "codemirror_mode": {
    "name": "ipython",
    "version": 3
   },
   "file_extension": ".py",
   "mimetype": "text/x-python",
   "name": "python",
   "nbconvert_exporter": "python",
   "pygments_lexer": "ipython3",
   "version": "3.9.0-final"
  },
  "orig_nbformat": 2,
  "kernelspec": {
   "name": "python3",
   "display_name": "Python 3.9.0 64-bit ('env')",
   "metadata": {
    "interpreter": {
     "hash": "6bc44a419a3fd3ce18b9aa670930ffe7206471fa21ee4529e3a5ee59ceb2151e"
    }
   }
  }
 },
 "nbformat": 4,
 "nbformat_minor": 2,
 "cells": [
  {
   "cell_type": "code",
   "execution_count": 1,
   "metadata": {},
   "outputs": [
    {
     "output_type": "stream",
     "name": "stderr",
     "text": [
      "INFO:root:configured logging\n"
     ]
    }
   ],
   "source": [
    "import time\n",
    "import logging\n",
    "import sys\n",
    "import os\n",
    "import datetime\n",
    "import re\n",
    "import logging\n",
    "#from functions import Refresh\n",
    "import sqlite3\n",
    "\n",
    "\n",
    "logging.basicConfig(\n",
    "    level=logging.INFO,\n",
    "    #format=\"%(asctime)s [%(levelname)s] %(message)s\",\n",
    "    handlers=[logging.FileHandler(os.path.join('logs', 'paperwork_tracker.log')), logging.StreamHandler()])\n",
    "logging.info('configured logging')\n"
   ]
  },
  {
   "cell_type": "code",
   "execution_count": null,
   "metadata": {},
   "outputs": [],
   "source": [
    "#check if db already exists:\n",
    "if os.path.exists(os.path.join('data','dataframe.sql')):\n",
    "    pass\n",
    "else:\n",
    "    logging.error('no dataframe.sql file found')\n",
    "\n",
    "#connect to sql database\n",
    "logging.info('opening db connection')\n",
    "try: \n",
    "    con = sqlite3.connect(os.path.join('data', 'dataframe.sql'))\n",
    "    \n",
    "    #check if table exists\n",
    "    if len(con.cursor().execute(\"select sql from sqlite_master where type = 'table' and name = 'dataframe';\").fetchall()) == 1:\n",
    "        Is_DB_Exists = True\n",
    "    else:\n",
    "        Is_DB_Exists = False\n",
    "        logging.error('NO dataframe TABLE FOUND IN DATABASE')\n",
    "\n",
    "    if Is_DB_Exists:\n",
    "        df = pd.read_sql(\"SELECT * from dataframe\", con, index_col='id', parse_dates=['created'])\n",
    "    \n",
    "    #log which rows will be added\n",
    "        logging.info('tmpDF size: ' + str(newDF.shape))\n",
    "        logging.info(','.join(newDF.index.tolist()))\n",
    "\n",
    "    #log df shapes for debugging purposes\n",
    "        logging.info('df shape was: ' + str(df.shape))\n",
    "        df = df.append(newDF)\n",
    "        logging.info('df shape is: ' + str(df.shape))\n",
    "    \n",
    "    #save to sql\n",
    "    logging.info('saving to existing sql database')\n",
    "    newDF.applymap(str).to_sql('dataframe', con, if_exists='append')\n",
    "except BaseException as e:\n",
    "    logging.critical('error raised in functions.py main sqllite3 connection catcher')\n",
    "    raise e\n",
    "finally:\n",
    "    con.close()\n",
    "    logging.info('closed db connection')"
   ]
  },
  {
   "cell_type": "code",
   "execution_count": 20,
   "metadata": {},
   "outputs": [
    {
     "output_type": "stream",
     "name": "stderr",
     "text": [
      "ERROR:root:no dataframe.sql file found\n",
      "INFO:root:opening db connection\n",
      "INFO:root:create table if not exists Boxes\n",
      " (\n",
      "     ID INTEGER PRIMARY KEY AUTOINCREMENT\n",
      "     , FriendlyName varchar(64)\n",
      "     , DateCreated INTEGER -- POSIX timestamp use datetime.fromtimestamp(timestamp, tz='America/Los_Angeles')\n",
      "     , DateClosed INTEGER -- POSIX timestamp use datetime.fromtimestamp(timestamp, tz='America/Los_Angeles')\n",
      "     , IsOpen BOOLEAN -- 0 is open, 1 is closed\n",
      "     , QRCode BLOB -- pickled file. Use pickle to unpack  use pip install qrcode to generate\n",
      "     , PhysicalLocation varchar(512)\n",
      " )\n",
      " \n",
      " create table if not exists Documents\n",
      " (\n",
      "     ID INTEGER PRIMARY KEY AUTOINCREMENT\n",
      "     , DateUploaded INTEGER -- POSIX timestamp use datetime.fromtimestamp(timestamp, tz='America/Los_Angeles')\n",
      "     , Image BLOB\n",
      "     , PageNumber INTEGER\n",
      "     , BoxID INTEGER\n",
      "     , Sender varchar(512)\n",
      "     , Category varchar(512)\n",
      "     , Notes varchar(2048)\n",
      " \n",
      "     , FOREIGN KEY(BoxID) REFERENCES Boxes(ID)\n",
      " )\n",
      "CRITICAL:root:error raised in sqllite3 connection catcher\n",
      "INFO:root:closed db connection\n"
     ]
    },
    {
     "output_type": "error",
     "ename": "OperationalError",
     "evalue": "near \"create\": syntax error",
     "traceback": [
      "\u001b[1;31m---------------------------------------------------------------------------\u001b[0m",
      "\u001b[1;31mOperationalError\u001b[0m                          Traceback (most recent call last)",
      "\u001b[1;32m<ipython-input-20-e235d71f55b3>\u001b[0m in \u001b[0;36m<module>\u001b[1;34m\u001b[0m\n\u001b[0;32m     16\u001b[0m \u001b[1;32mexcept\u001b[0m \u001b[0mBaseException\u001b[0m \u001b[1;32mas\u001b[0m \u001b[0me\u001b[0m\u001b[1;33m:\u001b[0m\u001b[1;33m\u001b[0m\u001b[1;33m\u001b[0m\u001b[0m\n\u001b[0;32m     17\u001b[0m     \u001b[0mlogging\u001b[0m\u001b[1;33m.\u001b[0m\u001b[0mcritical\u001b[0m\u001b[1;33m(\u001b[0m\u001b[1;34m'error raised in sqllite3 connection catcher'\u001b[0m\u001b[1;33m)\u001b[0m\u001b[1;33m\u001b[0m\u001b[1;33m\u001b[0m\u001b[0m\n\u001b[1;32m---> 18\u001b[1;33m     \u001b[1;32mraise\u001b[0m \u001b[0me\u001b[0m\u001b[1;33m\u001b[0m\u001b[1;33m\u001b[0m\u001b[0m\n\u001b[0m\u001b[0;32m     19\u001b[0m \u001b[1;32mfinally\u001b[0m\u001b[1;33m:\u001b[0m\u001b[1;33m\u001b[0m\u001b[1;33m\u001b[0m\u001b[0m\n\u001b[0;32m     20\u001b[0m     \u001b[0mcon\u001b[0m\u001b[1;33m.\u001b[0m\u001b[0mclose\u001b[0m\u001b[1;33m(\u001b[0m\u001b[1;33m)\u001b[0m\u001b[1;33m\u001b[0m\u001b[1;33m\u001b[0m\u001b[0m\n",
      "\u001b[1;32m<ipython-input-20-e235d71f55b3>\u001b[0m in \u001b[0;36m<module>\u001b[1;34m\u001b[0m\n\u001b[0;32m     12\u001b[0m         \u001b[0mdata\u001b[0m \u001b[1;33m=\u001b[0m \u001b[0msqlFile\u001b[0m\u001b[1;33m.\u001b[0m\u001b[0mreadlines\u001b[0m\u001b[1;33m(\u001b[0m\u001b[1;33m)\u001b[0m\u001b[1;33m\u001b[0m\u001b[1;33m\u001b[0m\u001b[0m\n\u001b[0;32m     13\u001b[0m         \u001b[0mlogging\u001b[0m\u001b[1;33m.\u001b[0m\u001b[0minfo\u001b[0m\u001b[1;33m(\u001b[0m\u001b[1;33m(\u001b[0m\u001b[1;34m' '\u001b[0m\u001b[1;33m.\u001b[0m\u001b[0mjoin\u001b[0m\u001b[1;33m(\u001b[0m\u001b[0mdata\u001b[0m\u001b[1;33m)\u001b[0m\u001b[1;33m)\u001b[0m\u001b[1;33m)\u001b[0m\u001b[1;33m\u001b[0m\u001b[1;33m\u001b[0m\u001b[0m\n\u001b[1;32m---> 14\u001b[1;33m         \u001b[0mcon\u001b[0m\u001b[1;33m.\u001b[0m\u001b[0mexecute\u001b[0m\u001b[1;33m(\u001b[0m\u001b[1;34m' '\u001b[0m\u001b[1;33m.\u001b[0m\u001b[0mjoin\u001b[0m\u001b[1;33m(\u001b[0m\u001b[0mdata\u001b[0m\u001b[1;33m)\u001b[0m\u001b[1;33m)\u001b[0m\u001b[1;33m\u001b[0m\u001b[1;33m\u001b[0m\u001b[0m\n\u001b[0m\u001b[0;32m     15\u001b[0m \u001b[1;33m\u001b[0m\u001b[0m\n\u001b[0;32m     16\u001b[0m \u001b[1;32mexcept\u001b[0m \u001b[0mBaseException\u001b[0m \u001b[1;32mas\u001b[0m \u001b[0me\u001b[0m\u001b[1;33m:\u001b[0m\u001b[1;33m\u001b[0m\u001b[1;33m\u001b[0m\u001b[0m\n",
      "\u001b[1;31mOperationalError\u001b[0m: near \"create\": syntax error"
     ]
    }
   ],
   "source": [
    "#check if db already exists:\n",
    "if os.path.exists(os.path.join('data','dataframe.sql')):\n",
    "    pass\n",
    "else:\n",
    "    logging.error('no dataframe.sql file found')\n",
    "\n",
    "#connect to sql database\n",
    "logging.info('opening db connection')\n",
    "try: \n",
    "    con = sqlite3.connect(os.path.join('data', 'database.db'))\n",
    "    logging.info('creating boxes table')\n",
    "    with open (os.path.abspath(os.path.join(os.path.abspath(''), '..', 'scripts', 'create_boxes.sql')), 'r') as sqlFile:\n",
    "        data = sqlFile.readlines()\n",
    "        logging.info((' '.join(data)))\n",
    "        con.execute(' '.join(data))\n",
    "    \n",
    "    logging.info('creating documents table')\n",
    "    with open (os.path.abspath(os.path.join(os.path.abspath(''), '..', 'scripts', 'create_documents.sql')), 'r') as sqlFile:\n",
    "        data = sqlFile.readlines()\n",
    "        logging.info((' '.join(data)))\n",
    "        con.execute(' '.join(data))\n",
    "\n",
    "except BaseException as e:\n",
    "    logging.critical('error raised in sqllite3 connection catcher')\n",
    "    raise e\n",
    "finally:\n",
    "    con.close()\n",
    "    logging.info('closed db connection')"
   ]
  },
  {
   "cell_type": "code",
   "execution_count": 14,
   "metadata": {},
   "outputs": [
    {
     "output_type": "execute_result",
     "data": {
      "text/plain": [
       "'c:\\\\Users\\\\Celebrinborn\\\\.vscode\\\\Paperwork-Tracker\\\\scripts\\\\create_tables.sql'"
      ]
     },
     "metadata": {},
     "execution_count": 14
    }
   ],
   "source": [
    "os.path.abspath(os.path.join(os.path.abspath(''), '..', 'scripts', 'create_tables.sql'))"
   ]
  }
 ]
}