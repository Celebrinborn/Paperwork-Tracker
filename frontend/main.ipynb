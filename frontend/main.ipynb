{
 "metadata": {
  "language_info": {
   "codemirror_mode": {
    "name": "ipython",
    "version": 3
   },
   "file_extension": ".py",
   "mimetype": "text/x-python",
   "name": "python",
   "nbconvert_exporter": "python",
   "pygments_lexer": "ipython3",
   "version": 3
  },
  "orig_nbformat": 2
 },
 "nbformat": 4,
 "nbformat_minor": 2,
 "cells": [
  {
   "cell_type": "code",
   "execution_count": null,
   "metadata": {},
   "outputs": [],
   "source": [
    "import time\n",
    "import logging\n",
    "import sys\n",
    "import os\n",
    "import datetime\n",
    "import re\n",
    "import logging\n",
    "from functions import Refresh\n",
    "import sqlite3\n",
    "\n",
    "\n",
    "logging.basicConfig(\n",
    "    level=logging.INFO,\n",
    "    #format=\"%(asctime)s [%(levelname)s] %(message)s\",\n",
    "    handlers=[logging.FileHandler(os.path.join('logs', 'paperwork_tracker.log')), logging.StreamHandler()])\n",
    "logging.info('configured logging')\n"
   ]
  },
  {
   "cell_type": "code",
   "execution_count": null,
   "metadata": {},
   "outputs": [],
   "source": [
    "#check if db already exists:\n",
    "if os.path.exists(os.path.join('data','dataframe.sql')):\n",
    "    pass\n",
    "else:\n",
    "    logging.error('no dataframe.sql file found')\n",
    "\n",
    "#connect to sql database\n",
    "logging.info('opening db connection')\n",
    "try: \n",
    "    con = sqlite3.connect(os.path.join('data', 'dataframe.sql'))\n",
    "    \n",
    "    #check if table exists\n",
    "    if len(con.cursor().execute(\"select sql from sqlite_master where type = 'table' and name = 'dataframe';\").fetchall()) == 1:\n",
    "        Is_DB_Exists = True\n",
    "    else:\n",
    "        Is_DB_Exists = False\n",
    "        logging.error('NO dataframe TABLE FOUND IN DATABASE')\n",
    "\n",
    "    if Is_DB_Exists:\n",
    "        df = pd.read_sql(\"SELECT * from dataframe\", con, index_col='id', parse_dates=['created'])\n",
    "    \n",
    "    #log which rows will be added\n",
    "        logging.info('tmpDF size: ' + str(newDF.shape))\n",
    "        logging.info(','.join(newDF.index.tolist()))\n",
    "\n",
    "    #log df shapes for debugging purposes\n",
    "        logging.info('df shape was: ' + str(df.shape))\n",
    "        df = df.append(newDF)\n",
    "        logging.info('df shape is: ' + str(df.shape))\n",
    "    \n",
    "    #save to sql\n",
    "    logging.info('saving to existing sql database')\n",
    "    newDF.applymap(str).to_sql('dataframe', con, if_exists='append')\n",
    "except BaseException as e:\n",
    "    logging.critical('error raised in functions.py main sqllite3 connection catcher')\n",
    "    raise e\n",
    "finally:\n",
    "    con.close()\n",
    "    logging.info('closed db connection')"
   ]
  }
 ]
}