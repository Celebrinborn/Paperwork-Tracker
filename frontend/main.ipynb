{
 "metadata": {
  "language_info": {
   "codemirror_mode": {
    "name": "ipython",
    "version": 3
   },
   "file_extension": ".py",
   "mimetype": "text/x-python",
   "name": "python",
   "nbconvert_exporter": "python",
   "pygments_lexer": "ipython3",
   "version": "3.9.0"
  },
  "orig_nbformat": 2,
  "kernelspec": {
   "name": "pythonjvsc74a57bd06bc44a419a3fd3ce18b9aa670930ffe7206471fa21ee4529e3a5ee59ceb2151e",
   "display_name": "Python 3.9.0  ('env': venv)"
  },
  "metadata": {
   "interpreter": {
    "hash": "6bc44a419a3fd3ce18b9aa670930ffe7206471fa21ee4529e3a5ee59ceb2151e"
   }
  }
 },
 "nbformat": 4,
 "nbformat_minor": 2,
 "cells": [
  {
   "cell_type": "code",
   "execution_count": 1,
   "metadata": {},
   "outputs": [
    {
     "output_type": "stream",
     "name": "stderr",
     "text": [
      "INFO:root:configured logging\n"
     ]
    }
   ],
   "source": [
    "import time\n",
    "import logging\n",
    "import sys\n",
    "import os\n",
    "import datetime\n",
    "import re\n",
    "import logging\n",
    "from scripts.Functions import *\n",
    "from scripts.SQL_Functions import *\n",
    "from scripts.Classes import *\n",
    "import sqlite3\n",
    "\n",
    "\n",
    "logging.basicConfig(\n",
    "    level=logging.INFO,\n",
    "    #format=\"%(asctime)s [%(levelname)s] %(message)s\",\n",
    "    handlers=[logging.FileHandler(os.path.join('logs', 'paperwork_tracker.log')), logging.StreamHandler()])\n",
    "logging.info('configured logging')\n"
   ]
  },
  {
   "cell_type": "code",
   "execution_count": 2,
   "metadata": {},
   "outputs": [
    {
     "output_type": "stream",
     "name": "stderr",
     "text": [
      "INFO:root:closed db connection\n",
      "INFO:root:closed db connection\n"
     ]
    }
   ],
   "source": [
    "#Verify tables exist\n",
    "if not IsTableExists('Documents'):\n",
    "    logging.critical('unable to find table Documents')\n",
    "    sys.exit('critical error while checking tables')\n",
    "if not IsTableExists('Boxes'):\n",
    "    logging.critical('unable to find table Boxes')\n",
    "    sys.exit('critical error while checking tables')\n",
    "\n"
   ]
  },
  {
   "cell_type": "code",
   "execution_count": 3,
   "metadata": {},
   "outputs": [],
   "source": [
    "#Create_Box('Bedroom')"
   ]
  },
  {
   "cell_type": "code",
   "execution_count": 4,
   "metadata": {},
   "outputs": [
    {
     "output_type": "stream",
     "name": "stderr",
     "text": [
      "INFO:root:connecting to db\n"
     ]
    },
    {
     "output_type": "execute_result",
     "data": {
      "text/plain": [
       "''"
      ]
     },
     "metadata": {},
     "execution_count": 4
    }
   ],
   "source": [
    "Get_Locations()"
   ]
  },
  {
   "cell_type": "code",
   "execution_count": 6,
   "metadata": {},
   "outputs": [
    {
     "output_type": "stream",
     "name": "stderr",
     "text": [
      "INFO:root:connecting to db\n"
     ]
    },
    {
     "output_type": "execute_result",
     "data": {
      "text/plain": [
       "''"
      ]
     },
     "metadata": {},
     "execution_count": 6
    }
   ],
   "source": [
    "Query('select * from Boxes;')"
   ]
  }
 ]
}